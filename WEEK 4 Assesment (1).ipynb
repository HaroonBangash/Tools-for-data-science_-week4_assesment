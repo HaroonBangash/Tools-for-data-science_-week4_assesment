{
 "cells": [
  {
   "cell_type": "markdown",
   "id": "66314bf8-1e03-4fc3-b46f-d0ba2d554b8d",
   "metadata": {},
   "source": [
    "# My Jupyter Notebook on IBM Watson Studio"
   ]
  },
  {
   "cell_type": "markdown",
   "id": "e79501df-b553-4af0-a86e-3897dff36ec9",
   "metadata": {},
   "source": [
    "**Haroon Bangash**\n",
    "\n",
    "Student\n",
    "\n",
    " I am final year student of bachelor of electrical engineering and my goals are to become a good data scientist in future. I wish."
   ]
  },
  {
   "cell_type": "markdown",
   "id": "10c084b5-a509-4467-8629-27b765849277",
   "metadata": {},
   "source": [
    "*I am interested in data science because I really like playing, visualizing and obtaining a meaning results from set of data. Apart from that i love this field because it is involved in field and have a significant role in our business, products design, health sector and much more.*"
   ]
  },
  {
   "cell_type": "markdown",
   "id": "27210f21-44ed-4122-a21d-f16d49600e0a",
   "metadata": {},
   "source": [
    "### Below is given the sum of two numbers"
   ]
  },
  {
   "cell_type": "code",
   "execution_count": 10,
   "id": "83f5109f-4742-4053-b056-5b3af9019de7",
   "metadata": {},
   "outputs": [
    {
     "name": "stdout",
     "output_type": "stream",
     "text": [
      "10 + 20 =  30\n"
     ]
    }
   ],
   "source": [
    "print (\"10 + 20 = \",10+20)"
   ]
  },
  {
   "cell_type": "markdown",
   "id": "5dc0e1df-2134-4e92-bade-57340f58a78f",
   "metadata": {},
   "source": [
    "## HORIZONTAL RULE \n",
    "\n",
    "Three or more...\n",
    "\n",
    "---\n",
    "\n",
    "Hyphens\n",
    "\n",
    "***\n",
    "\n",
    "Asterisks\n",
    "\n",
    "___\n",
    "\n",
    "Underscores\n",
    "\n",
    "\n",
    "## TABLE\n",
    "\n",
    "|   games   |   goals   |   assists  |\n",
    "|-------|-------|--------|\n",
    "| 1000  | 725   | 216    |\n",
    "|1000|789|348|\n",
    "\n",
    "\n",
    "## IMAGES\n",
    "\n",
    "Here is picture\n",
    "![click on picture](https://github.com/adam-p/markdown-here/raw/master/src/common/images/icon48.png \"Logo Title Text 1\")\n",
    "\n"
   ]
  }
 ],
 "metadata": {
  "kernelspec": {
   "display_name": "Python",
   "language": "python",
   "name": "conda-env-python-py"
  },
  "language_info": {
   "codemirror_mode": {
    "name": "ipython",
    "version": 3
   },
   "file_extension": ".py",
   "mimetype": "text/x-python",
   "name": "python",
   "nbconvert_exporter": "python",
   "pygments_lexer": "ipython3",
   "version": "3.7.12"
  }
 },
 "nbformat": 4,
 "nbformat_minor": 5
}
